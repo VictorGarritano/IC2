{
 "cells": [
  {
   "cell_type": "code",
   "execution_count": 1,
   "metadata": {},
   "outputs": [],
   "source": [
    "import numpy as np\n",
    "import seaborn as sns\n",
    "import matplotlib.pyplot as plt\n",
    "import pandas as pd\n",
    "from ipyparallel import Client\n",
    "\n",
    "sns.set_style(\"whitegrid\")"
   ]
  },
  {
   "cell_type": "code",
   "execution_count": 31,
   "metadata": {},
   "outputs": [],
   "source": [
    "def generate_data(N):\n",
    "    return np.concatenate(\n",
    "        (np.ones(N).reshape(N, 1),\n",
    "         np.random.uniform(low=-1, size=(N, 2))),\n",
    "        axis=1)\n",
    "\n",
    "\n",
    "def define_noise_targets(x):\n",
    "    y = np.sign(x[:, 1]**2 + x[:, 2]**2 - 0.6)\n",
    "    \n",
    "    noise_amount = int(0.1 * x.shape[0])\n",
    "    noise_idxs = np.random.choice(x.shape[0], noise_amount, replace=False)\n",
    "    \n",
    "    y[noise_idxs] *= -1\n",
    "    \n",
    "    return y\n",
    "\n",
    "\n",
    "def create_dataframe(x, y):\n",
    "    df = pd.DataFrame(data=x, columns=['bias', 'x1', 'x2'])\n",
    "    df['y'] = y\n",
    "\n",
    "    return df"
   ]
  },
  {
   "cell_type": "code",
   "execution_count": 32,
   "metadata": {},
   "outputs": [],
   "source": [
    "x = generate_data(1000)"
   ]
  },
  {
   "cell_type": "code",
   "execution_count": 33,
   "metadata": {},
   "outputs": [
    {
     "data": {
      "text/plain": [
       "(1000, 3)"
      ]
     },
     "execution_count": 33,
     "metadata": {},
     "output_type": "execute_result"
    }
   ],
   "source": [
    "x.shape"
   ]
  },
  {
   "cell_type": "code",
   "execution_count": 34,
   "metadata": {},
   "outputs": [],
   "source": [
    "y = define_noise_targets(x)"
   ]
  },
  {
   "cell_type": "code",
   "execution_count": 35,
   "metadata": {},
   "outputs": [
    {
     "data": {
      "text/plain": [
       "(1000,)"
      ]
     },
     "execution_count": 35,
     "metadata": {},
     "output_type": "execute_result"
    }
   ],
   "source": [
    "y.shape"
   ]
  },
  {
   "cell_type": "code",
   "execution_count": 37,
   "metadata": {},
   "outputs": [],
   "source": [
    "df = create_dataframe(x, y)"
   ]
  },
  {
   "cell_type": "code",
   "execution_count": 41,
   "metadata": {},
   "outputs": [
    {
     "data": {
      "text/html": [
       "<div>\n",
       "<style scoped>\n",
       "    .dataframe tbody tr th:only-of-type {\n",
       "        vertical-align: middle;\n",
       "    }\n",
       "\n",
       "    .dataframe tbody tr th {\n",
       "        vertical-align: top;\n",
       "    }\n",
       "\n",
       "    .dataframe thead th {\n",
       "        text-align: right;\n",
       "    }\n",
       "</style>\n",
       "<table border=\"1\" class=\"dataframe\">\n",
       "  <thead>\n",
       "    <tr style=\"text-align: right;\">\n",
       "      <th></th>\n",
       "      <th>bias</th>\n",
       "      <th>x1</th>\n",
       "      <th>x2</th>\n",
       "      <th>y</th>\n",
       "    </tr>\n",
       "  </thead>\n",
       "  <tbody>\n",
       "    <tr>\n",
       "      <th>0</th>\n",
       "      <td>1.0</td>\n",
       "      <td>-0.981365</td>\n",
       "      <td>-0.684393</td>\n",
       "      <td>1.0</td>\n",
       "    </tr>\n",
       "    <tr>\n",
       "      <th>1</th>\n",
       "      <td>1.0</td>\n",
       "      <td>0.542275</td>\n",
       "      <td>-0.216316</td>\n",
       "      <td>1.0</td>\n",
       "    </tr>\n",
       "    <tr>\n",
       "      <th>2</th>\n",
       "      <td>1.0</td>\n",
       "      <td>-0.580270</td>\n",
       "      <td>-0.821939</td>\n",
       "      <td>1.0</td>\n",
       "    </tr>\n",
       "    <tr>\n",
       "      <th>3</th>\n",
       "      <td>1.0</td>\n",
       "      <td>-0.740913</td>\n",
       "      <td>0.787010</td>\n",
       "      <td>1.0</td>\n",
       "    </tr>\n",
       "    <tr>\n",
       "      <th>4</th>\n",
       "      <td>1.0</td>\n",
       "      <td>0.058982</td>\n",
       "      <td>0.900738</td>\n",
       "      <td>1.0</td>\n",
       "    </tr>\n",
       "  </tbody>\n",
       "</table>\n",
       "</div>"
      ],
      "text/plain": [
       "   bias        x1        x2    y\n",
       "0   1.0 -0.981365 -0.684393  1.0\n",
       "1   1.0  0.542275 -0.216316  1.0\n",
       "2   1.0 -0.580270 -0.821939  1.0\n",
       "3   1.0 -0.740913  0.787010  1.0\n",
       "4   1.0  0.058982  0.900738  1.0"
      ]
     },
     "execution_count": 41,
     "metadata": {},
     "output_type": "execute_result"
    }
   ],
   "source": [
    "df.head()"
   ]
  },
  {
   "cell_type": "code",
   "execution_count": 42,
   "metadata": {},
   "outputs": [],
   "source": [
    "def run_experiment(run_id, N):\n",
    "    \"\"\"\n",
    "    Awesome function description goes here\n",
    "    \"\"\"\n",
    "    import numpy as np\n",
    "    import pandas as pd\n",
    "    \n",
    "###########################################\n",
    "    def generate_data(N):\n",
    "        return np.concatenate(\n",
    "            (np.ones(N).reshape(N, 1),\n",
    "             np.random.uniform(low=-1, size=(N, 2))),\n",
    "            axis=1)\n",
    "\n",
    "\n",
    "    def define_noise_targets(x):\n",
    "        y = np.sign(x[:, 1]**2 + x[:, 2]**2 - 0.6)\n",
    "\n",
    "        noise_amount = int(0.1 * x.shape[0])\n",
    "        noise_idxs = np.random.choice(x.shape[0], noise_amount, replace=False)\n",
    "\n",
    "        y[noise_idxs] *= -1\n",
    "\n",
    "        return y\n",
    "\n",
    "\n",
    "    def create_dataframe(x, y):\n",
    "        df = pd.DataFrame(data=x, columns=['bias', 'x1', 'x2'])\n",
    "        df['y'] = y\n",
    "\n",
    "        return df\n",
    "###########################################\n",
    "\n",
    "    x = generate_data(N)\n",
    "    y = define_noise_targets(x)\n",
    "    df = create_dataframe(x, y)\n",
    "    \n",
    "    X = df[['bias', 'x1', 'x2']].values\n",
    "    y = df['y'].values\n",
    "    \n",
    "    pseudo_inverse = lambda X: np.linalg.inv(X.T @ X) @ X.T\n",
    "    X_pinv = pseudo_inverse(X)\n",
    "    \n",
    "    w = X_pinv @ y\n",
    "    y_pred = np.sign(X @ w)\n",
    "    \n",
    "    E_in = np.mean(y != y_pred)\n",
    "    \n",
    "#     test_points = generate_data(1000)\n",
    "#     y_true = np.sign(test_points @ g)\n",
    "#     y_pred = np.sign(test_points @ w)\n",
    "    \n",
    "#     E_out = np.mean(y_true != y_pred)\n",
    "    \n",
    "#     return [E_in, E_out]\n",
    "    return E_in"
   ]
  },
  {
   "cell_type": "code",
   "execution_count": 43,
   "metadata": {},
   "outputs": [
    {
     "name": "stdout",
     "output_type": "stream",
     "text": [
      "[0, 1, 2, 3]\n"
     ]
    }
   ],
   "source": [
    "rc = Client()\n",
    "print(rc.ids)"
   ]
  },
  {
   "cell_type": "code",
   "execution_count": 44,
   "metadata": {},
   "outputs": [],
   "source": [
    "dv = rc[:]"
   ]
  },
  {
   "cell_type": "code",
   "execution_count": 45,
   "metadata": {},
   "outputs": [],
   "source": [
    "runs = 1000\n",
    "\n",
    "res = dv.map_async(run_experiment, np.arange(runs), [1000]*runs)\n",
    "x = res.get()"
   ]
  },
  {
   "cell_type": "code",
   "execution_count": 46,
   "metadata": {},
   "outputs": [
    {
     "data": {
      "text/plain": [
       "E_in    0.506541\n",
       "dtype: float64"
      ]
     },
     "execution_count": 46,
     "metadata": {},
     "output_type": "execute_result"
    }
   ],
   "source": [
    "df = pd.DataFrame(data=x, columns=['E_in'])\n",
    "df.mean(axis=0)"
   ]
  },
  {
   "cell_type": "code",
   "execution_count": null,
   "metadata": {},
   "outputs": [],
   "source": []
  }
 ],
 "metadata": {
  "kernelspec": {
   "display_name": "Python 3",
   "language": "python",
   "name": "python3"
  },
  "language_info": {
   "codemirror_mode": {
    "name": "ipython",
    "version": 3
   },
   "file_extension": ".py",
   "mimetype": "text/x-python",
   "name": "python",
   "nbconvert_exporter": "python",
   "pygments_lexer": "ipython3",
   "version": "3.5.2"
  }
 },
 "nbformat": 4,
 "nbformat_minor": 2
}
