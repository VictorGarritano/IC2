{
 "cells": [
  {
   "cell_type": "code",
   "execution_count": 11,
   "metadata": {},
   "outputs": [],
   "source": [
    "import numpy as np\n",
    "import seaborn as sns\n",
    "import matplotlib.pyplot as plt\n",
    "import pandas as pd\n",
    "from ipyparallel import Client\n",
    "\n",
    "sns.set_style(\"whitegrid\")"
   ]
  },
  {
   "cell_type": "code",
   "execution_count": 12,
   "metadata": {},
   "outputs": [],
   "source": [
    "def generate_data(N):\n",
    "    return np.concatenate(\n",
    "        (np.ones(N).reshape(N, 1),\n",
    "         np.random.uniform(low=-1, size=(N, 2))),\n",
    "        axis=1)\n",
    "\n",
    "\n",
    "def define_noise_targets(x):\n",
    "    y = np.sign(x[:, 1]**2 + x[:, 2]**2 - 0.6)\n",
    "    \n",
    "    noise_amount = int(0.1 * x.shape[0])\n",
    "    noise_idxs = np.random.choice(x.shape[0], noise_amount, replace=False)\n",
    "    \n",
    "    y[noise_idxs] *= -1\n",
    "    \n",
    "    return y\n",
    "\n",
    "\n",
    "def create_dataframe(x, y):\n",
    "    df = pd.DataFrame(data=x, columns=['bias', 'x1', 'x2'])\n",
    "    df['x1*x2'] = df['x1'].values * df['x2'].values\n",
    "    df['x1^2'] = np.square(df['x1'].values)\n",
    "    df['x2^2'] = np.square(df['x2'].values)\n",
    "    df['y'] = y\n",
    "\n",
    "    return df"
   ]
  },
  {
   "cell_type": "code",
   "execution_count": 13,
   "metadata": {},
   "outputs": [],
   "source": [
    "x = generate_data(1000)"
   ]
  },
  {
   "cell_type": "code",
   "execution_count": 14,
   "metadata": {},
   "outputs": [
    {
     "data": {
      "text/plain": [
       "(1000, 3)"
      ]
     },
     "execution_count": 14,
     "metadata": {},
     "output_type": "execute_result"
    }
   ],
   "source": [
    "x.shape"
   ]
  },
  {
   "cell_type": "code",
   "execution_count": 15,
   "metadata": {},
   "outputs": [],
   "source": [
    "y = define_noise_targets(x)"
   ]
  },
  {
   "cell_type": "code",
   "execution_count": 16,
   "metadata": {},
   "outputs": [
    {
     "data": {
      "text/plain": [
       "(1000,)"
      ]
     },
     "execution_count": 16,
     "metadata": {},
     "output_type": "execute_result"
    }
   ],
   "source": [
    "y.shape"
   ]
  },
  {
   "cell_type": "code",
   "execution_count": 17,
   "metadata": {},
   "outputs": [],
   "source": [
    "df = create_dataframe(x, y)"
   ]
  },
  {
   "cell_type": "code",
   "execution_count": 18,
   "metadata": {},
   "outputs": [
    {
     "data": {
      "text/html": [
       "<div>\n",
       "<style scoped>\n",
       "    .dataframe tbody tr th:only-of-type {\n",
       "        vertical-align: middle;\n",
       "    }\n",
       "\n",
       "    .dataframe tbody tr th {\n",
       "        vertical-align: top;\n",
       "    }\n",
       "\n",
       "    .dataframe thead th {\n",
       "        text-align: right;\n",
       "    }\n",
       "</style>\n",
       "<table border=\"1\" class=\"dataframe\">\n",
       "  <thead>\n",
       "    <tr style=\"text-align: right;\">\n",
       "      <th></th>\n",
       "      <th>bias</th>\n",
       "      <th>x1</th>\n",
       "      <th>x2</th>\n",
       "      <th>x1*x2</th>\n",
       "      <th>x1^2</th>\n",
       "      <th>x2^2</th>\n",
       "      <th>y</th>\n",
       "    </tr>\n",
       "  </thead>\n",
       "  <tbody>\n",
       "    <tr>\n",
       "      <th>0</th>\n",
       "      <td>1.0</td>\n",
       "      <td>-0.700132</td>\n",
       "      <td>0.377773</td>\n",
       "      <td>-0.264491</td>\n",
       "      <td>0.490185</td>\n",
       "      <td>0.142712</td>\n",
       "      <td>1.0</td>\n",
       "    </tr>\n",
       "    <tr>\n",
       "      <th>1</th>\n",
       "      <td>1.0</td>\n",
       "      <td>0.199539</td>\n",
       "      <td>0.504844</td>\n",
       "      <td>0.100736</td>\n",
       "      <td>0.039816</td>\n",
       "      <td>0.254867</td>\n",
       "      <td>-1.0</td>\n",
       "    </tr>\n",
       "    <tr>\n",
       "      <th>2</th>\n",
       "      <td>1.0</td>\n",
       "      <td>-0.757058</td>\n",
       "      <td>0.890424</td>\n",
       "      <td>-0.674102</td>\n",
       "      <td>0.573137</td>\n",
       "      <td>0.792854</td>\n",
       "      <td>1.0</td>\n",
       "    </tr>\n",
       "    <tr>\n",
       "      <th>3</th>\n",
       "      <td>1.0</td>\n",
       "      <td>0.991547</td>\n",
       "      <td>-0.568740</td>\n",
       "      <td>-0.563933</td>\n",
       "      <td>0.983166</td>\n",
       "      <td>0.323466</td>\n",
       "      <td>-1.0</td>\n",
       "    </tr>\n",
       "    <tr>\n",
       "      <th>4</th>\n",
       "      <td>1.0</td>\n",
       "      <td>0.724711</td>\n",
       "      <td>-0.968432</td>\n",
       "      <td>-0.701833</td>\n",
       "      <td>0.525206</td>\n",
       "      <td>0.937860</td>\n",
       "      <td>1.0</td>\n",
       "    </tr>\n",
       "  </tbody>\n",
       "</table>\n",
       "</div>"
      ],
      "text/plain": [
       "   bias        x1        x2     x1*x2      x1^2      x2^2    y\n",
       "0   1.0 -0.700132  0.377773 -0.264491  0.490185  0.142712  1.0\n",
       "1   1.0  0.199539  0.504844  0.100736  0.039816  0.254867 -1.0\n",
       "2   1.0 -0.757058  0.890424 -0.674102  0.573137  0.792854  1.0\n",
       "3   1.0  0.991547 -0.568740 -0.563933  0.983166  0.323466 -1.0\n",
       "4   1.0  0.724711 -0.968432 -0.701833  0.525206  0.937860  1.0"
      ]
     },
     "execution_count": 18,
     "metadata": {},
     "output_type": "execute_result"
    }
   ],
   "source": [
    "df.head()"
   ]
  },
  {
   "cell_type": "code",
   "execution_count": 38,
   "metadata": {},
   "outputs": [],
   "source": [
    "def run_experiment(run_id, N):\n",
    "    \"\"\"\n",
    "    Awesome function description goes here\n",
    "    \"\"\"\n",
    "    import numpy as np\n",
    "    import pandas as pd\n",
    "    \n",
    "###########################################\n",
    "    def generate_data(N):\n",
    "        return np.concatenate(\n",
    "            (np.ones(N).reshape(N, 1),\n",
    "             np.random.uniform(low=-1, size=(N, 2))),\n",
    "            axis=1)\n",
    "\n",
    "\n",
    "    def define_noise_targets(x):\n",
    "        y = np.sign(x[:, 1]**2 + x[:, 2]**2 - 0.6)\n",
    "\n",
    "        noise_amount = int(0.1 * x.shape[0])\n",
    "        noise_idxs = np.random.choice(x.shape[0], noise_amount, replace=False)\n",
    "\n",
    "        y[noise_idxs] *= -1\n",
    "\n",
    "        return y\n",
    "\n",
    "\n",
    "    def create_dataframe(x, y):\n",
    "        df = pd.DataFrame(data=x, columns=['bias', 'x1', 'x2'])\n",
    "        df['x1*x2'] = df['x1'].values * df['x2'].values\n",
    "        df['x1^2'] = np.square(df['x1'].values)\n",
    "        df['x2^2'] = np.square(df['x2'].values)\n",
    "        df['y'] = y\n",
    "\n",
    "        return df\n",
    "###########################################\n",
    "\n",
    "    x = generate_data(N)\n",
    "    y = define_noise_targets(x)\n",
    "    df = create_dataframe(x, y)\n",
    "    \n",
    "    X = df[['bias', 'x1', 'x2', 'x1*x2', 'x1^2', 'x2^2']].values\n",
    "    y = df['y'].values\n",
    "    \n",
    "    pseudo_inverse = lambda X: np.linalg.inv(X.T @ X) @ X.T\n",
    "    X_pinv = pseudo_inverse(X)\n",
    "    \n",
    "    w = X_pinv @ y\n",
    "    \n",
    "    test_points = generate_data(1000)\n",
    "    y_true = define_noise_targets(test_points)\n",
    "    df_test = create_dataframe(test_points, y)\n",
    "    \n",
    "    X_test = df_test[['bias', 'x1', 'x2', 'x1*x2', 'x1^2', 'x2^2']].values\n",
    "    y_pred = np.sign(X_test @ w)\n",
    "    \n",
    "    E_out = np.mean(y_true != y_pred)\n",
    "    \n",
    "    return E_out\n",
    "#     y_pred = np.sign(X @ w)\n",
    "    \n",
    "#     w_a = np.array([-1, -0.05, 0.08, 0.13, 1.5, 1.5])\n",
    "#     w_b = np.array([-1, -0.05, 0.08, 0.13, 1.5, 15])\n",
    "#     w_c = np.array([-1, -0.05, 0.08, 0.13, 15, 1.5])\n",
    "#     w_d = np.array([-1, -1.5, 0.08, 0.13, 0.05, 0.05])\n",
    "#     w_e = np.array([-1, -0.05, 0.08, 1.5, 0.15, 0.15])\n",
    "    \n",
    "#     ws = [w_a, w_b, w_c, w_d, w_e]\n",
    "    \n",
    "#     disagreements = []\n",
    "    \n",
    "#     for _w in ws:\n",
    "#         y = np.sign(X @ _w)\n",
    "#         disagreements.append(np.mean(y_pred != y))\n",
    "        \n",
    "#     return disagreements"
   ]
  },
  {
   "cell_type": "code",
   "execution_count": 39,
   "metadata": {},
   "outputs": [
    {
     "name": "stdout",
     "output_type": "stream",
     "text": [
      "[0, 1, 2, 3]\n"
     ]
    }
   ],
   "source": [
    "rc = Client()\n",
    "print(rc.ids)"
   ]
  },
  {
   "cell_type": "code",
   "execution_count": 40,
   "metadata": {},
   "outputs": [],
   "source": [
    "dv = rc[:]"
   ]
  },
  {
   "cell_type": "code",
   "execution_count": 41,
   "metadata": {},
   "outputs": [],
   "source": [
    "runs = 1000\n",
    "\n",
    "res = dv.map_async(run_experiment, np.arange(runs), [1000]*runs)\n",
    "x = res.get()"
   ]
  },
  {
   "cell_type": "code",
   "execution_count": 42,
   "metadata": {},
   "outputs": [
    {
     "data": {
      "text/plain": [
       "E_out    0.125615\n",
       "dtype: float64"
      ]
     },
     "execution_count": 42,
     "metadata": {},
     "output_type": "execute_result"
    }
   ],
   "source": [
    "df = pd.DataFrame(data=x, columns=['E_out'])\n",
    "df.mean(axis=0)"
   ]
  }
 ],
 "metadata": {
  "kernelspec": {
   "display_name": "Python 3",
   "language": "python",
   "name": "python3"
  },
  "language_info": {
   "codemirror_mode": {
    "name": "ipython",
    "version": 3
   },
   "file_extension": ".py",
   "mimetype": "text/x-python",
   "name": "python",
   "nbconvert_exporter": "python",
   "pygments_lexer": "ipython3",
   "version": "3.5.2"
  }
 },
 "nbformat": 4,
 "nbformat_minor": 2
}
