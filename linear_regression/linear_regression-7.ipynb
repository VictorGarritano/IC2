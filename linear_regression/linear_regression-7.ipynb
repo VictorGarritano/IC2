{
 "cells": [
  {
   "cell_type": "code",
   "execution_count": 1,
   "metadata": {},
   "outputs": [],
   "source": [
    "import numpy as np\n",
    "import seaborn as sns\n",
    "import matplotlib.pyplot as plt\n",
    "import pandas as pd\n",
    "from ipyparallel import Client\n",
    "\n",
    "sns.set_style(\"whitegrid\")"
   ]
  },
  {
   "cell_type": "code",
   "execution_count": 2,
   "metadata": {},
   "outputs": [],
   "source": [
    "def generate_data(N):\n",
    "    return np.concatenate(\n",
    "        (np.random.uniform(low=-1, size=(N, 2)),\n",
    "         np.ones(N).reshape(N, 1)),\n",
    "        axis=1)\n",
    "\n",
    "\n",
    "def define_line():\n",
    "    x = np.random.uniform(low=-1, size=(2, 2))\n",
    "    m = (x[0][1] - x[1][1]) / (x[0][0] - x[1][0])\n",
    "    coeff_vector = np.array([-m, 1, m*x[0][0] - x[0][1]])\n",
    "\n",
    "    return coeff_vector\n",
    "\n",
    "\n",
    "def create_dataframe(x, coeff_vector):\n",
    "    df = pd.DataFrame(data=x, columns=['x1', 'x2', 'bias'])\n",
    "    df['y'] = np.sign(df[['x1', 'x2', 'bias']].values @ coeff_vector)\n",
    "\n",
    "    return df"
   ]
  },
  {
   "cell_type": "code",
   "execution_count": 3,
   "metadata": {},
   "outputs": [],
   "source": [
    "x = generate_data(10)"
   ]
  },
  {
   "cell_type": "code",
   "execution_count": 4,
   "metadata": {},
   "outputs": [],
   "source": [
    "g = define_line()"
   ]
  },
  {
   "cell_type": "code",
   "execution_count": 5,
   "metadata": {},
   "outputs": [
    {
     "name": "stdout",
     "output_type": "stream",
     "text": [
      "[2.9771748  1.         0.58906101]\n"
     ]
    }
   ],
   "source": [
    "print(g)"
   ]
  },
  {
   "cell_type": "code",
   "execution_count": 6,
   "metadata": {},
   "outputs": [],
   "source": [
    "df = create_dataframe(x, g)"
   ]
  },
  {
   "cell_type": "code",
   "execution_count": 7,
   "metadata": {},
   "outputs": [
    {
     "data": {
      "text/html": [
       "<div>\n",
       "<style scoped>\n",
       "    .dataframe tbody tr th:only-of-type {\n",
       "        vertical-align: middle;\n",
       "    }\n",
       "\n",
       "    .dataframe tbody tr th {\n",
       "        vertical-align: top;\n",
       "    }\n",
       "\n",
       "    .dataframe thead th {\n",
       "        text-align: right;\n",
       "    }\n",
       "</style>\n",
       "<table border=\"1\" class=\"dataframe\">\n",
       "  <thead>\n",
       "    <tr style=\"text-align: right;\">\n",
       "      <th></th>\n",
       "      <th>x1</th>\n",
       "      <th>x2</th>\n",
       "      <th>bias</th>\n",
       "      <th>y</th>\n",
       "    </tr>\n",
       "  </thead>\n",
       "  <tbody>\n",
       "    <tr>\n",
       "      <th>0</th>\n",
       "      <td>0.658591</td>\n",
       "      <td>0.299212</td>\n",
       "      <td>1.0</td>\n",
       "      <td>1.0</td>\n",
       "    </tr>\n",
       "    <tr>\n",
       "      <th>1</th>\n",
       "      <td>-0.289821</td>\n",
       "      <td>0.405786</td>\n",
       "      <td>1.0</td>\n",
       "      <td>1.0</td>\n",
       "    </tr>\n",
       "    <tr>\n",
       "      <th>2</th>\n",
       "      <td>-0.043013</td>\n",
       "      <td>0.814263</td>\n",
       "      <td>1.0</td>\n",
       "      <td>1.0</td>\n",
       "    </tr>\n",
       "    <tr>\n",
       "      <th>3</th>\n",
       "      <td>-0.519785</td>\n",
       "      <td>-0.479263</td>\n",
       "      <td>1.0</td>\n",
       "      <td>-1.0</td>\n",
       "    </tr>\n",
       "    <tr>\n",
       "      <th>4</th>\n",
       "      <td>0.394094</td>\n",
       "      <td>-0.282292</td>\n",
       "      <td>1.0</td>\n",
       "      <td>1.0</td>\n",
       "    </tr>\n",
       "    <tr>\n",
       "      <th>5</th>\n",
       "      <td>-0.969612</td>\n",
       "      <td>0.872380</td>\n",
       "      <td>1.0</td>\n",
       "      <td>-1.0</td>\n",
       "    </tr>\n",
       "    <tr>\n",
       "      <th>6</th>\n",
       "      <td>0.008759</td>\n",
       "      <td>0.640401</td>\n",
       "      <td>1.0</td>\n",
       "      <td>1.0</td>\n",
       "    </tr>\n",
       "    <tr>\n",
       "      <th>7</th>\n",
       "      <td>0.044252</td>\n",
       "      <td>0.621393</td>\n",
       "      <td>1.0</td>\n",
       "      <td>1.0</td>\n",
       "    </tr>\n",
       "    <tr>\n",
       "      <th>8</th>\n",
       "      <td>-0.091856</td>\n",
       "      <td>-0.074503</td>\n",
       "      <td>1.0</td>\n",
       "      <td>1.0</td>\n",
       "    </tr>\n",
       "    <tr>\n",
       "      <th>9</th>\n",
       "      <td>-0.479298</td>\n",
       "      <td>-0.390038</td>\n",
       "      <td>1.0</td>\n",
       "      <td>-1.0</td>\n",
       "    </tr>\n",
       "  </tbody>\n",
       "</table>\n",
       "</div>"
      ],
      "text/plain": [
       "         x1        x2  bias    y\n",
       "0  0.658591  0.299212   1.0  1.0\n",
       "1 -0.289821  0.405786   1.0  1.0\n",
       "2 -0.043013  0.814263   1.0  1.0\n",
       "3 -0.519785 -0.479263   1.0 -1.0\n",
       "4  0.394094 -0.282292   1.0  1.0\n",
       "5 -0.969612  0.872380   1.0 -1.0\n",
       "6  0.008759  0.640401   1.0  1.0\n",
       "7  0.044252  0.621393   1.0  1.0\n",
       "8 -0.091856 -0.074503   1.0  1.0\n",
       "9 -0.479298 -0.390038   1.0 -1.0"
      ]
     },
     "execution_count": 7,
     "metadata": {},
     "output_type": "execute_result"
    }
   ],
   "source": [
    "df"
   ]
  },
  {
   "cell_type": "code",
   "execution_count": 8,
   "metadata": {},
   "outputs": [
    {
     "data": {
      "text/plain": [
       "(-1, 1)"
      ]
     },
     "execution_count": 8,
     "metadata": {},
     "output_type": "execute_result"
    },
    {
     "data": {
      "image/png": "[encoded data removed]",
      "text/plain": [
       "<Figure size 360x360 with 1 Axes>"
      ]
     },
     "metadata": {},
     "output_type": "display_data"
    }
   ],
   "source": [
    "xx = np.linspace(-1, 1, 100)\n",
    "\n",
    "plt.figure(figsize=(5, 5))\n",
    "plt.ylim(-1, 1)\n",
    "plt.xlim(-1, 1)\n",
    "\n",
    "sns.scatterplot(x='x1', y='x2', data=df, hue='y', legend='full', s=80)\n",
    "# sns.lineplot(xx, g(xx))\n",
    "plt.ylim(-1, 1)\n",
    "plt.xlim(-1, 1)"
   ]
  },
  {
   "cell_type": "code",
   "execution_count": 9,
   "metadata": {},
   "outputs": [],
   "source": [
    "def run_experiment(run_id, N):\n",
    "    \"\"\"\n",
    "    Awesome function description goes here\n",
    "    \"\"\"\n",
    "    import numpy as np\n",
    "    import pandas as pd\n",
    "    \n",
    "###########################################\n",
    "    def generate_data(N):\n",
    "        return np.concatenate(\n",
    "            (np.random.uniform(low=-1, size=(N, 2)),\n",
    "             np.ones(N).reshape(N, 1)),\n",
    "            axis=1)\n",
    "\n",
    "\n",
    "    def define_line():\n",
    "        x = np.random.uniform(low=-1, size=(2, 2))\n",
    "        m = (x[0][1] - x[1][1]) / (x[0][0] - x[1][0])\n",
    "        coeff_vector = np.array([-m, 1, m*x[0][0] - x[0][1]])\n",
    "\n",
    "        return coeff_vector\n",
    "\n",
    "\n",
    "    def create_dataframe(x, coeff_vector):\n",
    "        df = pd.DataFrame(data=x, columns=['x1', 'x2', 'bias'])\n",
    "        df['y'] = np.sign(df[['x1', 'x2', 'bias']].values @ coeff_vector)\n",
    "\n",
    "        return df\n",
    "###########################################\n",
    "\n",
    "    x = generate_data(N)\n",
    "    g = define_line()\n",
    "    df = create_dataframe(x, g)\n",
    "    \n",
    "    X = df[['x1', 'x2', 'bias']].values\n",
    "    y = df['y'].values\n",
    "    \n",
    "    pseudo_inverse = lambda X: np.linalg.inv(X.T @ X) @ X.T\n",
    "    X_pinv = pseudo_inverse(X)\n",
    "    \n",
    "    w = X_pinv @ y\n",
    "    \n",
    "    h = lambda x, w: np.sign(x @ w)\n",
    "    it = 0\n",
    "    while True:\n",
    "        y_pred = h(df[['x1', 'x2', 'bias']], w)\n",
    "        check_y_pred_vs_y_true = np.equal(y_pred, df['y'].values)\n",
    "        wrong_examples = np.where(check_y_pred_vs_y_true == False)[0]\n",
    "\n",
    "        if wrong_examples.shape[0] == 0:\n",
    "            return it\n",
    "\n",
    "        random_example_idx = np.random.choice(wrong_examples)\n",
    "        random_example = df[['x1', 'x2', 'bias']].iloc[random_example_idx]\n",
    "\n",
    "        w += random_example.values * df['y'].iloc[random_example_idx]\n",
    "        it += 1"
   ]
  },
  {
   "cell_type": "code",
   "execution_count": 10,
   "metadata": {},
   "outputs": [],
   "source": [
    "X = df[['x1', 'x2', 'bias']].values"
   ]
  },
  {
   "cell_type": "code",
   "execution_count": 11,
   "metadata": {},
   "outputs": [],
   "source": [
    "y = df['y'].values"
   ]
  },
  {
   "cell_type": "code",
   "execution_count": 12,
   "metadata": {},
   "outputs": [],
   "source": [
    "pseudo_inverse = lambda X: np.linalg.inv(X.T @ X) @ X.T"
   ]
  },
  {
   "cell_type": "code",
   "execution_count": 13,
   "metadata": {},
   "outputs": [],
   "source": [
    "X_pinv = pseudo_inverse(X)"
   ]
  },
  {
   "cell_type": "code",
   "execution_count": 14,
   "metadata": {},
   "outputs": [],
   "source": [
    "w = X_pinv @ y"
   ]
  },
  {
   "cell_type": "code",
   "execution_count": 15,
   "metadata": {},
   "outputs": [],
   "source": [
    "y_pred = np.sign(X @ w)"
   ]
  },
  {
   "cell_type": "code",
   "execution_count": 16,
   "metadata": {},
   "outputs": [
    {
     "data": {
      "text/plain": [
       "0.0"
      ]
     },
     "execution_count": 16,
     "metadata": {},
     "output_type": "execute_result"
    }
   ],
   "source": [
    "np.mean(y != y_pred)"
   ]
  },
  {
   "cell_type": "code",
   "execution_count": 17,
   "metadata": {},
   "outputs": [
    {
     "name": "stdout",
     "output_type": "stream",
     "text": [
      "[0, 1, 2, 3]\n"
     ]
    }
   ],
   "source": [
    "rc = Client()\n",
    "print(rc.ids)"
   ]
  },
  {
   "cell_type": "code",
   "execution_count": 18,
   "metadata": {},
   "outputs": [],
   "source": [
    "dv = rc[:]"
   ]
  },
  {
   "cell_type": "code",
   "execution_count": 21,
   "metadata": {},
   "outputs": [],
   "source": [
    "runs = 1000\n",
    "\n",
    "res = dv.map_async(run_experiment, np.arange(runs), [10]*runs)\n",
    "x = res.get()"
   ]
  },
  {
   "cell_type": "code",
   "execution_count": 22,
   "metadata": {},
   "outputs": [
    {
     "data": {
      "text/plain": [
       "iterations    3.662\n",
       "dtype: float64"
      ]
     },
     "execution_count": 22,
     "metadata": {},
     "output_type": "execute_result"
    }
   ],
   "source": [
    "df = pd.DataFrame(data=x, columns=['iterations'])\n",
    "df.mean(axis=0)"
   ]
  }
 ],
 "metadata": {
  "kernelspec": {
   "display_name": "Python 3",
   "language": "python",
   "name": "python3"
  },
  "language_info": {
   "codemirror_mode": {
    "name": "ipython",
    "version": 3
   },
   "file_extension": ".py",
   "mimetype": "text/x-python",
   "name": "python",
   "nbconvert_exporter": "python",
   "pygments_lexer": "ipython3",
   "version": "3.5.2"
  }
 },
 "nbformat": 4,
 "nbformat_minor": 2
}
