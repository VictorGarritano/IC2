{
 "cells": [
  {
   "cell_type": "code",
   "execution_count": 9,
   "metadata": {},
   "outputs": [],
   "source": [
    "import numpy as np\n",
    "import seaborn as sns\n",
    "import matplotlib.pyplot as plt\n",
    "import pandas as pd\n",
    "\n",
    "sns.set_style(\"whitegrid\")"
   ]
  },
  {
   "cell_type": "code",
   "execution_count": null,
   "metadata": {},
   "outputs": [],
   "source": [
    "def generate_data(N):\n",
    "    return np.concatenate(\n",
    "        (np.random.uniform(low=-1, size=(N, 2)),\n",
    "         np.ones(N).reshape(N, 1)),\n",
    "        axis=1)\n",
    "\n",
    "\n",
    "def define_line():\n",
    "    x = np.random.uniform(low=-1, size=(2, 2))\n",
    "    m = (x[0][1] - x[1][1]) / (x[0][0] - x[1][0])\n",
    "    coeff_vector = np.array([-m, 1, m*x[0][0] - x[0][1]])\n",
    "\n",
    "    return coeff_vector\n",
    "\n",
    "\n",
    "def create_dataframe(x, coeff_vector):\n",
    "    df = pd.DataFrame(data=x, columns=['x', 'y', 'bias'])\n",
    "    df['class'] = np.sign(df[['x', 'y', 'bias']].values @ coeff_vector)\n",
    "\n",
    "    return df"
   ]
  },
  {
   "cell_type": "code",
   "execution_count": 34,
   "metadata": {},
   "outputs": [],
   "source": [
    "x = generate_data(10)"
   ]
  },
  {
   "cell_type": "code",
   "execution_count": 35,
   "metadata": {},
   "outputs": [],
   "source": [
    "g = define_line()"
   ]
  },
  {
   "cell_type": "code",
   "execution_count": 36,
   "metadata": {},
   "outputs": [
    {
     "name": "stdout",
     "output_type": "stream",
     "text": [
      "[1.12503229 1.         0.22596144]\n"
     ]
    }
   ],
   "source": [
    "print(g)"
   ]
  },
  {
   "cell_type": "code",
   "execution_count": 37,
   "metadata": {},
   "outputs": [],
   "source": [
    "df = create_dataframe(x, g)"
   ]
  },
  {
   "cell_type": "code",
   "execution_count": 38,
   "metadata": {},
   "outputs": [
    {
     "data": {
      "text/plain": [
       "(-1, 1)"
      ]
     },
     "execution_count": 38,
     "metadata": {},
     "output_type": "execute_result"
    },
    {
     "data": {
      "image/png": "[encoded data removed]",
      "text/plain": [
       "<Figure size 360x360 with 1 Axes>"
      ]
     },
     "metadata": {},
     "output_type": "display_data"
    }
   ],
   "source": [
    "xx = np.linspace(-1, 1, 100)\n",
    "\n",
    "plt.figure(figsize=(5, 5))\n",
    "plt.ylim(-1, 1)\n",
    "plt.xlim(-1, 1)\n",
    "\n",
    "sns.scatterplot(x='x', y='y', data=df, hue='class', legend='full', s=80)\n",
    "# sns.lineplot(xx, g(xx))\n",
    "plt.ylim(-1, 1)\n",
    "plt.xlim(-1, 1)"
   ]
  },
  {
   "cell_type": "markdown",
   "metadata": {},
   "source": [
    "---"
   ]
  },
  {
   "cell_type": "code",
   "execution_count": 1,
   "metadata": {},
   "outputs": [],
   "source": [
    "from ipyparallel import Client\n",
    "import numpy as np"
   ]
  },
  {
   "cell_type": "code",
   "execution_count": 2,
   "metadata": {},
   "outputs": [],
   "source": [
    "rc = Client()"
   ]
  },
  {
   "cell_type": "code",
   "execution_count": 3,
   "metadata": {},
   "outputs": [
    {
     "name": "stdout",
     "output_type": "stream",
     "text": [
      "[0, 1, 2, 3]\n"
     ]
    }
   ],
   "source": [
    "print(rc.ids)"
   ]
  },
  {
   "cell_type": "code",
   "execution_count": 4,
   "metadata": {},
   "outputs": [],
   "source": [
    "dv = rc[:]"
   ]
  },
  {
   "cell_type": "code",
   "execution_count": 16,
   "metadata": {},
   "outputs": [],
   "source": [
    "def run_experiment(run_id, N):\n",
    "    \"\"\"\n",
    "    Awesome function description goes here\n",
    "    \"\"\"\n",
    "    import numpy as np\n",
    "    import pandas as pd\n",
    "    \n",
    "###########################################\n",
    "    def generate_data(N):\n",
    "        return np.concatenate(\n",
    "            (np.random.uniform(low=-1, size=(N, 2)),\n",
    "             np.ones(N).reshape(N, 1)),\n",
    "            axis=1)\n",
    "\n",
    "\n",
    "    def define_line():\n",
    "        x = np.random.uniform(low=-1, size=(2, 2))\n",
    "        m = (x[0][1] - x[1][1]) / (x[0][0] - x[1][0])\n",
    "        coeff_vector = np.array([-m, 1, m*x[0][0] - x[0][1]])\n",
    "\n",
    "        return coeff_vector\n",
    "\n",
    "\n",
    "    def create_dataframe(x, coeff_vector):\n",
    "        df = pd.DataFrame(data=x, columns=['x', 'y', 'bias'])\n",
    "        df['class'] = np.sign(df[['x', 'y', 'bias']].values @ coeff_vector)\n",
    "\n",
    "        return df\n",
    "###########################################\n",
    "\n",
    "    it = 0\n",
    "    w = np.zeros(3)\n",
    "    h = lambda x, w: np.sign(x @ w)\n",
    "\n",
    "    x = generate_data(N)\n",
    "    g = define_line()\n",
    "    df = create_dataframe(x, g)\n",
    "\n",
    "    while True:\n",
    "        y_pred = h(df[['x', 'y', 'bias']], w)\n",
    "        check_y_pred_vs_y_true = np.equal(y_pred, df['class'].values)\n",
    "        wrong_examples = np.where(check_y_pred_vs_y_true == False)[0]\n",
    "\n",
    "        if wrong_examples.shape[0] == 0:\n",
    "            test_points = generate_data(1000)\n",
    "            y_true = h(test_points, g)\n",
    "            y_pred = h(test_points, w)\n",
    "            \n",
    "            mistmatch_prob = np.mean(y_true != y_pred)\n",
    "            \n",
    "            return [it, mistmatch_prob]\n",
    "\n",
    "        random_example_idx = np.random.choice(wrong_examples)\n",
    "        random_example = df[['x', 'y', 'bias']].iloc[random_example_idx]\n",
    "\n",
    "        w += random_example.values * df['class'].iloc[random_example_idx]\n",
    "        it += 1"
   ]
  },
  {
   "cell_type": "code",
   "execution_count": 19,
   "metadata": {},
   "outputs": [],
   "source": [
    "runs = 1000\n",
    "\n",
    "res = dv.map_async(run_experiment, np.arange(runs), [10]*runs)\n",
    "x = res.get()"
   ]
  },
  {
   "cell_type": "code",
   "execution_count": 20,
   "metadata": {},
   "outputs": [
    {
     "data": {
      "text/plain": [
       "iterations            10.498000\n",
       "misclassified_rate     0.104789\n",
       "dtype: float64"
      ]
     },
     "execution_count": 20,
     "metadata": {},
     "output_type": "execute_result"
    }
   ],
   "source": [
    "df = pd.DataFrame(data=x, columns=['iterations', 'misclassified_rate'])\n",
    "df.mean(axis=0)"
   ]
  },
  {
   "cell_type": "code",
   "execution_count": 21,
   "metadata": {},
   "outputs": [],
   "source": [
    "res = dv.map_async(run_experiment, np.arange(runs), [100]*runs)\n",
    "x = res.get()"
   ]
  },
  {
   "cell_type": "code",
   "execution_count": 22,
   "metadata": {},
   "outputs": [
    {
     "data": {
      "text/plain": [
       "iterations            119.486000\n",
       "misclassified_rate      0.013261\n",
       "dtype: float64"
      ]
     },
     "execution_count": 22,
     "metadata": {},
     "output_type": "execute_result"
    }
   ],
   "source": [
    "df = pd.DataFrame(data=x, columns=['iterations', 'misclassified_rate'])\n",
    "df.mean(axis=0)"
   ]
  },
  {
   "cell_type": "code",
   "execution_count": null,
   "metadata": {},
   "outputs": [],
   "source": []
  }
 ],
 "metadata": {
  "kernelspec": {
   "display_name": "Python 3",
   "language": "python",
   "name": "python3"
  },
  "language_info": {
   "codemirror_mode": {
    "name": "ipython",
    "version": 3
   },
   "file_extension": ".py",
   "mimetype": "text/x-python",
   "name": "python",
   "nbconvert_exporter": "python",
   "pygments_lexer": "ipython3",
   "version": "3.5.2"
  }
 },
 "nbformat": 4,
 "nbformat_minor": 2
}
